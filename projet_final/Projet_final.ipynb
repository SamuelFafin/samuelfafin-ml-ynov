{
 "cells": [
  {
   "cell_type": "markdown",
   "metadata": {},
   "source": [
    "# 1 - Présentation\n",
    "## 1.1 - Introduction\n",
    "Il est possible de récupérer des données sur les réseaux sociaux et d'autres sources de manières exponentielles. Il n'est pas envisageable qu'un être humain utilise une grande partie de son temps à les traiter.\n",
    "\n",
    "Le but de ce projet est de récupérer des informations sur des évènements venant de Facebook et d'appliquer des classifications sur ces informations de manière automatique.\n",
    "\n",
    "L'objectif est d'entrainer un programme à lire un évènement et à appliquer des classifications.\n",
    "\n",
    "## 1.2 - Source de Données\n",
    "Pour l'exercice la source sera un fichier texte que j'aurai écris avec des évènemenents que j'aurai récupérés sur Facebook.\n",
    "\n",
    "# 2 - Préparation des données\n",
    "## 2.1 - Charger les librairies"
   ]
  },
  {
   "cell_type": "code",
   "execution_count": 23,
   "metadata": {
    "collapsed": true
   },
   "outputs": [],
   "source": [
    "import pandas as pd"
   ]
  },
  {
   "cell_type": "markdown",
   "metadata": {},
   "source": [
    "## 2.2 - Charger les données"
   ]
  },
  {
   "cell_type": "code",
   "execution_count": 21,
   "metadata": {
    "collapsed": false
   },
   "outputs": [
    {
     "data": {
      "text/plain": [
       "[[u'Soir\\xe9e Electro samedi soir au hangar \\xe0 banane', u'party'],\n",
       " [u'Soir\\xe9e Cin\\xe9ma vendredi soir au UGC \\xe0 Nantes pour voir le film Trolls',\n",
       "  u'movies'],\n",
       " [u'Electro Bitch \\xe0 la rochelle', u'party'],\n",
       " [u'', u'']]"
      ]
     },
     "execution_count": 21,
     "metadata": {},
     "output_type": "execute_result"
    }
   ],
   "source": [
    "source = [\n",
    "    [\"Soirée Electro samedi soir au hangar à banane\", \"party\"],\n",
    "    [\"Soirée Cinéma vendredi soir au UGC à Nantes pour voir le film Trolls\", \"movies\"],\n",
    "    [\"Electro Bitch à la rochelle\", \"party\"],\n",
    "    [\"\",\"\"]\n",
    "]"
   ]
  },
  {
   "cell_type": "markdown",
   "metadata": {},
   "source": [
    "## 2.3 - Nettoyer les données"
   ]
  },
  {
   "cell_type": "code",
   "execution_count": 22,
   "metadata": {
    "collapsed": false
   },
   "outputs": [
    {
     "data": {
      "text/plain": [
       "[[u'Soir\\xe9e Electro samedi soir au hangar \\xe0 banane', u'party'],\n",
       " [u'Soir\\xe9e Cin\\xe9ma vendredi soir au UGC \\xe0 Nantes pour voir le film Trolls',\n",
       "  u'movies'],\n",
       " [u'Electro Bitch \\xe0 la rochelle', u'party'],\n",
       " [u'', u'']]"
      ]
     },
     "execution_count": 22,
     "metadata": {},
     "output_type": "execute_result"
    }
   ],
   "source": [
    "data"
   ]
  },
  {
   "cell_type": "code",
   "execution_count": null,
   "metadata": {
    "collapsed": true
   },
   "outputs": [],
   "source": []
  }
 ],
 "metadata": {
  "anaconda-cloud": {},
  "kernelspec": {
   "display_name": "Python [conda root]",
   "language": "python",
   "name": "conda-root-py"
  },
  "language_info": {
   "codemirror_mode": {
    "name": "ipython",
    "version": 2
   },
   "file_extension": ".py",
   "mimetype": "text/x-python",
   "name": "python",
   "nbconvert_exporter": "python",
   "pygments_lexer": "ipython2",
   "version": "2.7.12"
  }
 },
 "nbformat": 4,
 "nbformat_minor": 1
}
