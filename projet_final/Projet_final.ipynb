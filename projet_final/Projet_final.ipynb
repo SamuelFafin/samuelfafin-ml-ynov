{
 "cells": [
  {
   "cell_type": "markdown",
   "metadata": {},
   "source": [
    "# 1 - Présentation\n",
    "## 1.1 - Introduction\n",
    "Les réseaux sociaux sont une source de données presques infinis. Avec les Tweets sur Twitter ou les murs sur Facebook, il y a une multitude d'informations en attente d'être étudiées.\n",
    "\n",
    "J'ai récupéré un jeu de dataset depuis cette source : https://inclass.kaggle.com/c/si650winter11/data\n",
    "\n",
    "L'objectif de ce jeu de données est de prédire si un tweet est positif ou négatif. L'exercice nécessite de réaliser une analyse de sentiment en réalisant une classification à 2 sorties.\n",
    "\n",
    "## 1.2 - Source de Données\n",
    "Les données sont représentés par 2 dimensions :\n",
    "* un chiffre de 0 ou 1 qui représente si un tweet est positif(1) ou négatif(0) ;\n",
    "* une chaine de caractères représentant le tweet.\n",
    "\n",
    "# 2 - Préparation des données\n",
    "## 2.1 - Charger les librairies\n",
    "Ci-dessous la liste des librairies nécessaires durant l'analyse des données :"
   ]
  },
  {
   "cell_type": "code",
   "execution_count": null,
   "metadata": {
    "collapsed": true
   },
   "outputs": [],
   "source": [
    "import pandas as pd"
   ]
  },
  {
   "cell_type": "markdown",
   "metadata": {},
   "source": [
    "## 2.2 - Charger les données\n",
    "Ci-dessous nous allons charger les données d'entraitement :"
   ]
  },
  {
   "cell_type": "code",
   "execution_count": null,
   "metadata": {
    "collapsed": false
   },
   "outputs": [],
   "source": [
    "df = pd.read_csv('./data/training.txt', \n",
    "                 header=-1,\n",
    "                 sep='\t',\n",
    "                 names=['Sentimental','Tweet'],)"
   ]
  },
  {
   "cell_type": "markdown",
   "metadata": {},
   "source": [
    "Maintenant nous allons afficher 5 lignes de ce dataset pour mieux appréhender l'information :"
   ]
  },
  {
   "cell_type": "code",
   "execution_count": null,
   "metadata": {
    "collapsed": false
   },
   "outputs": [],
   "source": [
    "df.head(20)"
   ]
  },
  {
   "cell_type": "markdown",
   "metadata": {},
   "source": [
    "Nous allons afficher les types des données chargées :"
   ]
  },
  {
   "cell_type": "code",
   "execution_count": null,
   "metadata": {
    "collapsed": false
   },
   "outputs": [],
   "source": [
    "df.dtypes"
   ]
  },
  {
   "cell_type": "markdown",
   "metadata": {},
   "source": [
    "Les types des données sont corrects pour l'analyse. Il n'est pas nécessaire de les casts."
   ]
  },
  {
   "cell_type": "markdown",
   "metadata": {},
   "source": [
    "## 2.3 - Nettoyer les données\n",
    "Avant de passer à l'analyse nous allons nettoyer les données.\n",
    "\n",
    "### 2.3.1 - Minuscule\n",
    "Nous allons enlever les majuscules des différents tweets :"
   ]
  },
  {
   "cell_type": "code",
   "execution_count": null,
   "metadata": {
    "collapsed": false
   },
   "outputs": [],
   "source": [
    "df['Tweet'] = df['Tweet'].str.lower()\n",
    "df.head()"
   ]
  },
  {
   "cell_type": "markdown",
   "metadata": {
    "collapsed": true
   },
   "source": [
    "Cela va permettre de ne pas avoir de mots doublons pour la suite de l'analyse. Comme par exemple \"awesome\" et \"Awesome\" qui auraient été analysés comme des mots différents.\n",
    "\n",
    "### 2.3.2 - Ponctuation"
   ]
  },
  {
   "cell_type": "code",
   "execution_count": null,
   "metadata": {
    "collapsed": true
   },
   "outputs": [],
   "source": []
  }
 ],
 "metadata": {
  "anaconda-cloud": {},
  "kernelspec": {
   "display_name": "Python [conda root]",
   "language": "python",
   "name": "conda-root-py"
  },
  "language_info": {
   "codemirror_mode": {
    "name": "ipython",
    "version": 2
   },
   "file_extension": ".py",
   "mimetype": "text/x-python",
   "name": "python",
   "nbconvert_exporter": "python",
   "pygments_lexer": "ipython2",
   "version": "2.7.12"
  }
 },
 "nbformat": 4,
 "nbformat_minor": 1
}
